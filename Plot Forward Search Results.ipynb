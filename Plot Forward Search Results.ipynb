{
 "cells": [
  {
   "cell_type": "code",
   "execution_count": 117,
   "metadata": {},
   "outputs": [],
   "source": [
    "import math\n",
    "import os\n",
    "import matplotlib.pyplot as plt\n",
    "import numpy as np"
   ]
  },
  {
   "cell_type": "code",
   "execution_count": 118,
   "metadata": {},
   "outputs": [],
   "source": [
    "def plot_reward(timesteps, mean_reward, min_reward, max_reward, figname=\"mean_reward.png\"):\n",
    "    plt.figure(figsize=(11, 7))\n",
    "    timesteps = timesteps / 1000\n",
    "    plt.plot(timesteps, mean_reward, label='Mean Reward',  color='orangered')\n",
    "    plt.fill_between(timesteps, min_reward, max_reward, color='mistyrose')\n",
    "\n",
    "    axes = plt.gca()\n",
    "    plt.title(\"Reward\")\n",
    "    plt.xlabel('Timesteps (in K)', fontdict={'size' : 18})\n",
    "    plt.ylabel('Total Cumulative Reward', fontdict={'size' : 18})\n",
    "    # plt.xticks(list(np.arange(0, (math.ceil(timesteps[-1] / timesteps_interval) + 1) * timesteps_interval, timesteps_interval)), ('{}'.format(str(x)) for x in np.arange(0, (math.ceil(timesteps[-1] / timesteps_interval) + 1) * timesteps_interval, timesteps_interval)))\n",
    "    plt.savefig(figname, dpi=200)\n",
    "    plt.clf()\n",
    "    plt.close()"
   ]
  },
  {
   "cell_type": "code",
   "execution_count": 119,
   "metadata": {},
   "outputs": [],
   "source": [
    "def plot_seeds_combined(run_dirs, with_std=True, figname='combined_seeds.png'):\n",
    "    \n",
    "    mean_rewards = []\n",
    "    std_rewards = []\n",
    "    timesteps = []\n",
    "    for run_dir in run_dirs:\n",
    "        train_stats = np.load(os.path.join(run_dir, 'train_stats.npz'))\n",
    "        mean_rewards.append(train_stats['mean_reward'])\n",
    "        std_rewards.append(train_stats['std_reward'])\n",
    "        timesteps.append(train_stats['timesteps'])\n",
    "    \n",
    "    mean_rewards = np.array(mean_rewards)\n",
    "    std_rewards = np.array(std_rewards)\n",
    "    timesteps = np.array(timesteps)[0]\n",
    "    \n",
    "    plt.figure(figsize=(11, 7))\n",
    "    timesteps = timesteps / 1000\n",
    "    plt.plot(timesteps, mean_rewards[0], label='Mean Reward',  color='orangered')\n",
    "    plt.plot(timesteps, mean_rewards[1], label='Mean Reward',  color='lightseagreen')\n",
    "    plt.plot(timesteps, mean_rewards[2], label='Mean Reward',  color='goldenrod')\n",
    "    if with_std:\n",
    "        plt.fill_between(timesteps, mean_rewards[0] - std_rewards[0], mean_rewards[0] + std_rewards[0], color='mistyrose')\n",
    "        plt.fill_between(timesteps, mean_rewards[1] - std_rewards[1], mean_rewards[1] + std_rewards[1], color='paleturquoise')\n",
    "        plt.fill_between(timesteps, mean_rewards[2] - std_rewards[2], mean_rewards[2] + std_rewards[2], color='lightgoldenrodyellow')\n",
    "\n",
    "    axes = plt.gca()\n",
    "    plt.title(\"Reward\")\n",
    "    plt.xlabel('Timesteps (in K)', fontdict={'size' : 18})\n",
    "    plt.ylabel('Total Cumulative Reward', fontdict={'size' : 18})\n",
    "    # plt.xticks(list(np.arange(0, (math.ceil(timesteps[-1] / timesteps_interval) + 1) * timesteps_interval, timesteps_interval)), ('{}'.format(str(x)) for x in np.arange(0, (math.ceil(timesteps[-1] / timesteps_interval) + 1) * timesteps_interval, timesteps_interval)))\n",
    "    \n",
    "    log_dir = run_dirs[0].rsplit('/', 1)[0]\n",
    "    plt.savefig(os.path.join(log_dir, figname), dpi=200)\n",
    "    plt.clf()\n",
    "    plt.close()"
   ]
  },
  {
   "cell_type": "code",
   "execution_count": 120,
   "metadata": {},
   "outputs": [],
   "source": [
    "def plot_seeds(run_dirs, with_std=True, figname='seeds.png'):\n",
    "    \n",
    "    mean_rewards = []\n",
    "    timesteps = []\n",
    "    for run_dir in run_dirs:\n",
    "        train_stats = np.load(os.path.join(run_dir, 'train_stats.npz'))\n",
    "        mean_rewards.append(train_stats['mean_reward'])\n",
    "        timesteps.append(train_stats['timesteps'])\n",
    "    \n",
    "    mean_reward = np.mean(np.array(mean_rewards), axis = 0)\n",
    "    std_reward = np.std(np.array(mean_rewards), axis = 0)\n",
    "    timesteps = np.array(timesteps)[0]\n",
    "    \n",
    "    log_dir = run_dirs[0].rsplit('/', 1)[0]\n",
    "    plot_reward(timesteps, mean_reward, mean_reward - std_reward, mean_reward + std_reward, figname=os.path.join(log_dir, figname))"
   ]
  },
  {
   "cell_type": "code",
   "execution_count": 121,
   "metadata": {},
   "outputs": [],
   "source": [
    "def plot_epochs(epoch_dirs, with_std=True, figname='seeds.png'):\n",
    "    plt.figure(figsize=(11, 7))\n",
    "    means = []\n",
    "    stds = []\n",
    "    ind2epoch = {0: 10, 1: 20, 2: 50}\n",
    "    mean_colors = ['orangered', 'lightseagreen', 'goldenrod']\n",
    "    fill_colors = ['mistyrose', 'paleturquoise', 'lightgoldenrodyellow']\n",
    "    for ind, run_dir in enumerate(epoch_dirs[:3]):\n",
    "        mean = []\n",
    "        timesteps = []\n",
    "        for indi in range(ind, 9, 3):\n",
    "            run_dir = epoch_dirs[indi]\n",
    "            train_stats = np.load(os.path.join(run_dir, 'train_stats.npz'))\n",
    "            mean.append(train_stats['mean_reward'])\n",
    "            timesteps.append(train_stats['timesteps'])\n",
    "    \n",
    "        mean = np.mean(np.array(mean), axis = 0)\n",
    "        std = np.std(np.array(mean), axis = 0)\n",
    "        timesteps = np.array(timesteps)[0]\n",
    "        means.append(mean)\n",
    "        stds.append(std)\n",
    "        \n",
    "        timesteps = timesteps / 1000\n",
    "        plt.plot(timesteps, mean, label='Mean Reward (Epoch {})'.format(ind2epoch[ind]),  color=mean_colors[ind])\n",
    "        if with_std:\n",
    "            plt.fill_between(timesteps, mean - std, mean + std, color=fill_colors[ind])\n",
    "\n",
    "    mean_rewards = np.array(means)\n",
    "    std_rewards = np.array(stds)\n",
    "    \n",
    "    axes = plt.gca()\n",
    "    plt.title(\"Reward\")\n",
    "    plt.xlabel('Timesteps (in K)', fontdict={'size' : 18})\n",
    "    plt.ylabel('Total Cumulative Reward', fontdict={'size' : 18})\n",
    "    plt.legend()\n",
    "    # plt.xticks(list(np.arange(0, (math.ceil(timesteps[-1] / timesteps_interval) + 1) * timesteps_interval, timesteps_interval)), ('{}'.format(str(x)) for x in np.arange(0, (math.ceil(timesteps[-1] / timesteps_interval) + 1) * timesteps_interval, timesteps_interval)))\n",
    "\n",
    "    log_dir = epoch_dirs[0].rsplit('/', 2)[0]\n",
    "    plt.savefig(os.path.join(log_dir, figname), dpi=200)\n",
    "    plt.clf()\n",
    "    plt.close()"
   ]
  },
  {
   "cell_type": "code",
   "execution_count": 122,
   "metadata": {
    "scrolled": true
   },
   "outputs": [],
   "source": [
    "def generate_epoch_results(epoch, epoch_dir):\n",
    "    single_process = [os.path.join(epoch_dir, 'run{}'.format(x)) for x in range(1, 4)]\n",
    "    forward_search_pop_size_1 = [os.path.join(epoch_dir, 'run{}'.format(x)) for x in range(4, 7)]\n",
    "    forward_search_pop_size_3 = [os.path.join(epoch_dir, 'run{}'.format(x)) for x in range(7, 10)]\n",
    "    forward_search_pop_size_5 = [os.path.join(epoch_dir, 'run{}'.format(x)) for x in range(10, 13)]\n",
    "    \n",
    "    # To Combine individual seeds plots\n",
    "    plot_seeds_combined(single_process, figname=\"epochs_{}_combined_seeds.png\".format(epoch))\n",
    "    plot_seeds_combined(forward_search_pop_size_1, figname=\"epochs_{}_combined_seeds_fs_1.png\".format(epoch))\n",
    "    plot_seeds_combined(forward_search_pop_size_3, figname=\"epochs_{}_combined_seeds_fs_3.png\".format(epoch))\n",
    "    plot_seeds_combined(forward_search_pop_size_5, figname=\"epochs_{}_combined_seeds_fs_5.png\".format(epoch))\n",
    "    \n",
    "    # To plot individual seeds mean and the variance between them.\n",
    "    plot_seeds(single_process, figname=\"epochs_{}_seeds.png\".format(epoch))\n",
    "    plot_seeds(forward_search_pop_size_1, figname=\"epochs_{}_seeds_fs_1.png\".format(epoch))\n",
    "    plot_seeds(forward_search_pop_size_3, figname=\"epochs_{}_seeds_fs_3.png\".format(epoch))\n",
    "    plot_seeds(forward_search_pop_size_5, figname=\"epochs_{}_seeds_fs_5.png\".format(epoch))"
   ]
  },
  {
   "cell_type": "code",
   "execution_count": 123,
   "metadata": {},
   "outputs": [],
   "source": [
    "env_name = 'CartPole-v1'\n",
    "log_dir = '/media/hdd/tanmaya/projects/GymExperiments'\n",
    "num_timesteps = 100000\n",
    "for epoch in epochs:\n",
    "    epoch_dir = os.path.join(log_dir, env_name, '{}_{}'.format(num_timesteps, epoch))\n",
    "    generate_epoch_results(epoch, epoch_dir)"
   ]
  },
  {
   "cell_type": "code",
   "execution_count": 124,
   "metadata": {},
   "outputs": [],
   "source": [
    "epochs = [10, 20, 50]\n",
    "epoch_dirs = [os.path.join(log_dir, env_name, '{}_{}'.format(num_timesteps, epoch)) for epoch in epochs]"
   ]
  },
  {
   "cell_type": "code",
   "execution_count": 125,
   "metadata": {},
   "outputs": [],
   "source": [
    "single_process = [os.path.join(epoch_dir, 'run{}'.format(x)) for x in range(1, 4) for epoch_dir in epoch_dirs]\n",
    "forward_search_pop_size_1 = [os.path.join(epoch_dir, 'run{}'.format(x)) for x in range(4, 7) for epoch_dir in epoch_dirs]\n",
    "forward_search_pop_size_3 = [os.path.join(epoch_dir, 'run{}'.format(x)) for x in range(7, 10) for epoch_dir in epoch_dirs]\n",
    "forward_search_pop_size_5 = [os.path.join(epoch_dir, 'run{}'.format(x)) for x in range(10, 13) for epoch_dir in epoch_dirs]"
   ]
  },
  {
   "cell_type": "code",
   "execution_count": 126,
   "metadata": {},
   "outputs": [],
   "source": [
    "plot_epochs(single_process, figname=\"single_process.png\")\n",
    "plot_epochs(forward_search_pop_size_1, figname=\"forward_search_pop_size_1.png\")\n",
    "plot_epochs(forward_search_pop_size_3, figname=\"forward_search_pop_size_3.png\")\n",
    "plot_epochs(forward_search_pop_size_5, figname=\"forward_search_pop_size_5.png\")"
   ]
  },
  {
   "cell_type": "code",
   "execution_count": null,
   "metadata": {},
   "outputs": [],
   "source": []
  }
 ],
 "metadata": {
  "kernelspec": {
   "display_name": "carla9.4_py35_new",
   "language": "python",
   "name": "carla9.4_py35_new"
  },
  "language_info": {
   "codemirror_mode": {
    "name": "ipython",
    "version": 3
   },
   "file_extension": ".py",
   "mimetype": "text/x-python",
   "name": "python",
   "nbconvert_exporter": "python",
   "pygments_lexer": "ipython3",
   "version": "3.5.6"
  }
 },
 "nbformat": 4,
 "nbformat_minor": 4
}
